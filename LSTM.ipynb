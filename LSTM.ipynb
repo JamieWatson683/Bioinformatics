{
 "cells": [
  {
   "cell_type": "code",
   "execution_count": 1,
   "metadata": {},
   "outputs": [],
   "source": [
    "import numpy as np \n",
    "import pandas as pd\n",
    "import tensorflow as tf\n",
    "from sklearn import linear_model, metrics, ensemble, model_selection, preprocessing, decomposition\n",
    "from DataLoaderEncode import DataLoader\n",
    "from traditional import GradientBooster\n",
    "import matplotlib.pyplot as plt\n",
    "import itertools\n",
    "from Bio import SeqIO\n",
    "import DataLoaderRF\n",
    "import FeatureSelection"
   ]
  },
  {
   "cell_type": "code",
   "execution_count": 2,
   "metadata": {},
   "outputs": [
    {
     "name": "stdout",
     "output_type": "stream",
     "text": [
      "Loading files...\n",
      "File 0: nucleus.fasta.txt with label nucleus\n",
      "File 1: cyto.fasta.txt with label cyto\n",
      "File 2: mito.fasta.txt with label mito\n",
      "File 3: secreted.fasta.txt with label secreted\n",
      "Done\n",
      "Converting labels, sequences to arrays, and created reversed sequence...\n",
      "Done\n"
     ]
    }
   ],
   "source": [
    "#Load Data and parse in dataframes\n",
    "files = ['nucleus.fasta.txt', 'cyto.fasta.txt', 'mito.fasta.txt', 'secreted.fasta.txt']\n",
    "labels = ['nucleus', 'cyto', 'mito', 'secreted']\n",
    "\n",
    "data = DataLoader(path='./Data/',verbose=True, ignoreX=True)\n",
    "data.load_files(files, labels)\n",
    "data.convert_all_to_array()"
   ]
  },
  {
   "cell_type": "code",
   "execution_count": 3,
   "metadata": {},
   "outputs": [
    {
     "name": "stdout",
     "output_type": "stream",
     "text": [
      "Trimming forward and backward sequences to length 400\n",
      "Done\n"
     ]
    }
   ],
   "source": [
    "#Trim sequences to manageable length\n",
    "data.trim_sequences(400)\n",
    "#Get random ordering\n",
    "#order = data.get_random_ordering()\n",
    "#np.savetxt('ordering.csv', order)\n",
    "order = np.loadtxt('ordering.csv', dtype=int)"
   ]
  },
  {
   "cell_type": "code",
   "execution_count": 15,
   "metadata": {},
   "outputs": [
    {
     "name": "stdout",
     "output_type": "stream",
     "text": [
      "Splittling data with proportion 0.15 to test set...\n",
      "Done -> returning train, test\n"
     ]
    }
   ],
   "source": [
    "#Split data into training and test set\n",
    "train, test = data.create_train_test_set(split=0.15, ordering=order)\n",
    "train_y, train_x, train_xb, train_len = train\n",
    "test_y, test_x, test_xb, test_len = test"
   ]
  },
  {
   "cell_type": "code",
   "execution_count": 16,
   "metadata": {},
   "outputs": [],
   "source": [
    "#Split training set into validation and training set\n",
    "val_split = 0.15\n",
    "data_size = train_y.shape[0]\n",
    "val_y = train_y[0:round(data_size*val_split)]\n",
    "val_x = train_x[0:round(data_size*val_split)]\n",
    "val_xb = train_xb[0:round(data_size*val_split)]\n",
    "val_len = train_len[0:round(data_size*val_split)]\n",
    "\n",
    "train_y = train_y[round(data_size*val_split):]\n",
    "train_x = train_x[round(data_size*val_split):]\n",
    "train_xb = train_xb[round(data_size*val_split):]\n",
    "train_len = train_len[round(data_size*val_split):]\n"
   ]
  },
  {
   "cell_type": "code",
   "execution_count": 11,
   "metadata": {},
   "outputs": [],
   "source": [
    "#Helper Functions\n",
    "\n",
    "def generate_embeddings():\n",
    "    embeddings = np.array([[0,0,0,0,0], #Padding\n",
    "                          [71, 6, 1.8, 2.34, 0], \n",
    "                          [156, 10.8, -4.5, 2.17, 0],\n",
    "                          [114,5.4,-3.5,2.02, 0],\n",
    "                          [115,3,-3.5,1.88, 0],\n",
    "                          [103,5,2.5,1.96, 0],\n",
    "                          [129,3.2,-3.5,2.19, 0],\n",
    "                          [128,5.7,-3.5,2.17, 0],\n",
    "                          [57,6,-.4,2.34, 0],\n",
    "                          [137,7.6,-3.2,1.82, 1],\n",
    "                          [113,6,4.5,2.36, 0],\n",
    "                          [113,6,3.8,2.36, 0],\n",
    "                          [128,9.7,-3.9,2.18, 0],\n",
    "                          [131,5.7,1.9,2.28, 0],\n",
    "                          [147,5.5,2.8,1.83, 1],\n",
    "                          [97,6.3,-1.6,1.99, 0],\n",
    "                          [87,5.7,-.8,2.21, 0],\n",
    "                          [101,5.6,-.7,2.09, 0],\n",
    "                          [186,5.9,-.9,2.83, 1],\n",
    "                          [163,5.7,-1.3,2.20, 1],\n",
    "                          [99,6,4.2,2.32, 0],\n",
    "                          [121,5.7,2.5,2.177, 0], #U-> defined weight and charge, same hydro as cysteine\n",
    "                          [114.5,4.2,-3.5,1.95, 0],#B-> mean of N,D\n",
    "                          [0,0,0,0,0]]) #X TODO: should define as average\n",
    "                           \n",
    "                           \n",
    "    return embeddings\n",
    "\n",
    "def rescale_embeddings(embeddings):\n",
    "    means = embeddings[1:23,:4].mean(axis=0)\n",
    "    std = embeddings[1:23,:4].std(axis=0)\n",
    "    return (embeddings[1:23,:4] - means) / std\n",
    "\n",
    "\n",
    "def plot_confusion_matrix(cm, classes,\n",
    "                          normalize=False,\n",
    "                          title='Confusion matrix',\n",
    "                          cmap=plt.cm.Blues):\n",
    "    \"\"\"\n",
    "    This function prints and plots the confusion matrix.\n",
    "    Normalization can be applied by setting `normalize=True`.\n",
    "    \"\"\"\n",
    "    if normalize:\n",
    "        cm = cm.astype('float') / cm.sum(axis=1)[:, np.newaxis]\n",
    "        print(\"Normalized confusion matrix\")\n",
    "    else:\n",
    "        print('Confusion matrix, without normalization')\n",
    "\n",
    "    print(cm)\n",
    "\n",
    "    plt.imshow(cm, interpolation='nearest', cmap=cmap)\n",
    "    plt.title(title)\n",
    "    plt.colorbar()\n",
    "    tick_marks = np.arange(len(classes))\n",
    "    plt.xticks(tick_marks, classes, rotation=45)\n",
    "    plt.yticks(tick_marks, classes)\n",
    "\n",
    "    fmt = '.2f' if normalize else 'd'\n",
    "    thresh = cm.max() / 2.\n",
    "    for i, j in itertools.product(range(cm.shape[0]), range(cm.shape[1])):\n",
    "        plt.text(j, i, format(cm[i, j], fmt),\n",
    "                 horizontalalignment=\"center\",\n",
    "                 color=\"white\" if cm[i, j] > thresh else \"black\")\n",
    "\n",
    "    plt.tight_layout()\n",
    "    plt.ylabel('True label')\n",
    "    plt.xlabel('Predicted label')\n"
   ]
  },
  {
   "cell_type": "code",
   "execution_count": 12,
   "metadata": {},
   "outputs": [],
   "source": [
    "#Model Functions\n",
    "\n",
    "#Basic LSTM Encoder\n",
    "def LSTM_Encoder(fwdcell, bwdcell, inputs, seq_lens):\n",
    "    outputs, final_state = tf.nn.bidirectional_dynamic_rnn(fwdcell, bwdcell, inputs, dtype=tf.float32, sequence_length=seq_lens)\n",
    "    final_state = tf.concat([final_state[0].h, final_state[1].h], axis=1)\n",
    "    return final_state"
   ]
  },
  {
   "cell_type": "code",
   "execution_count": 13,
   "metadata": {},
   "outputs": [],
   "source": [
    "#Tensorflow Encoder-Decoder Model\n",
    "tf.reset_default_graph()\n",
    "\n",
    "#Define Variables\n",
    "embeddings = generate_embeddings()\n",
    "embeddings[1:23,:4] = rescale_embeddings(embeddings)\n",
    "num_hidden_lstm = 64\n",
    "num_hidden_MLP = 96\n",
    "\n",
    "\n",
    "#Placeholders\n",
    "sequences = tf.placeholder(tf.int32, [None,None])\n",
    "sequences_back = tf.placeholder(tf.int32, [None,None])\n",
    "labels = tf.placeholder(tf.int32, [None,None])\n",
    "seq_lengths = tf.placeholder(tf.int32, [None])\n",
    "dropout_prob_lstm = tf.placeholder(tf.float32)\n",
    "dropout_prob_mlp = tf.placeholder(tf.float32)\n",
    "\n",
    "#Get letter embeddings\n",
    "embeddings_var = tf.get_variable(\"Embeddings\", initializer=embeddings)\n",
    "sequences_embedded = tf.cast(tf.nn.embedding_lookup(embeddings_var, sequences), tf.float32) # batch size x max length x 5\n",
    "sequences_embedded_back = tf.cast(tf.nn.embedding_lookup(embeddings_var, sequences_back), tf.float32) # batch size x max length x 5\n",
    "\n",
    "#LSTM -> start of sequence\n",
    "fwdcell = tf.contrib.rnn.BasicLSTMCell(num_hidden_lstm, name='fwdcell')\n",
    "fwdcell = tf.contrib.rnn.DropoutWrapper(fwdcell, input_keep_prob=(1-dropout_prob_lstm))\n",
    "bwdcell = tf.contrib.rnn.BasicLSTMCell(num_hidden_lstm, name='bwdcell')\n",
    "bwdcell = tf.contrib.rnn.DropoutWrapper(bwdcell, input_keep_prob=(1-dropout_prob_lstm))\n",
    "encoded = LSTM_Encoder(fwdcell, bwdcell, sequences_embedded, seq_lengths)\n",
    "\n",
    "#LSTM -> end of sequence\n",
    "fwdcell_b = tf.contrib.rnn.BasicLSTMCell(num_hidden_lstm, name='fwdcell_b')\n",
    "fwdcell_b = tf.contrib.rnn.DropoutWrapper(fwdcell_b, output_keep_prob=(1-dropout_prob_lstm))\n",
    "bwdcell_b = tf.contrib.rnn.BasicLSTMCell(num_hidden_lstm, name='bwdcell_b')\n",
    "bwdcell_b = tf.contrib.rnn.DropoutWrapper(bwdcell_b, output_keep_prob=(1-dropout_prob_lstm))\n",
    "encoded_b = LSTM_Encoder(fwdcell_b, bwdcell_b, sequences_embedded_back, seq_lengths)\n",
    "\n",
    "#Concatenate start and end representations\n",
    "encoded = tf.concat([encoded, encoded_b], axis=1)\n",
    "\n",
    "#MLP Prediction\n",
    "h = tf.contrib.layers.fully_connected(encoded, num_hidden_MLP)\n",
    "h = tf.nn.dropout(h, keep_prob=(1-dropout_prob_mlp))\n",
    "h = tf.contrib.layers.fully_connected(encoded, num_hidden_MLP)\n",
    "h = tf.nn.dropout(h, keep_prob=(1-dropout_prob_mlp))\n",
    "h = tf.contrib.layers.fully_connected(h, 4, activation_fn=None)\n",
    "\n",
    "#Loss\n",
    "loss = tf.reduce_mean(tf.nn.softmax_cross_entropy_with_logits_v2(labels=labels, logits=h))\n",
    "opt = tf.train.AdamOptimizer(0.001).minimize(loss)\n",
    "\n",
    "#Accuracy\n",
    "prediction = tf.argmax(h, axis=1)\n",
    "truth = tf.argmax(labels, axis=1)\n",
    "accuracy = tf.reduce_mean(tf.cast(tf.equal(prediction, truth), dtype=tf.float32))\n",
    "\n",
    "#Probabilities\n",
    "prob = tf.nn.softmax(h, axis=1)\n"
   ]
  },
  {
   "cell_type": "code",
   "execution_count": 21,
   "metadata": {},
   "outputs": [],
   "source": [
    "e = generate_embeddings()\n",
    "e[1:23,:4] = rescale_embeddings(e)\n",
    "e = e[1:23]\n",
    "pca = decomposition.PCA(n_components=2)\n",
    "pca.fit_transform(e)\n",
    "k = list(data.lookup.keys())"
   ]
  },
  {
   "cell_type": "code",
   "execution_count": 25,
   "metadata": {},
   "outputs": [
    {
     "ename": "IndexError",
     "evalue": "index 22 is out of bounds for axis 0 with size 22",
     "output_type": "error",
     "traceback": [
      "\u001b[1;31m---------------------------------------------------------------------------\u001b[0m",
      "\u001b[1;31mIndexError\u001b[0m                                Traceback (most recent call last)",
      "\u001b[1;32m<ipython-input-25-5f4595912f03>\u001b[0m in \u001b[0;36m<module>\u001b[1;34m()\u001b[0m\n\u001b[0;32m      2\u001b[0m \u001b[0max\u001b[0m\u001b[1;33m.\u001b[0m\u001b[0mscatter\u001b[0m\u001b[1;33m(\u001b[0m\u001b[0me\u001b[0m\u001b[1;33m[\u001b[0m\u001b[1;33m:\u001b[0m\u001b[1;33m,\u001b[0m\u001b[1;36m0\u001b[0m\u001b[1;33m]\u001b[0m\u001b[1;33m,\u001b[0m \u001b[0me\u001b[0m\u001b[1;33m[\u001b[0m\u001b[1;33m:\u001b[0m\u001b[1;33m,\u001b[0m\u001b[1;36m1\u001b[0m\u001b[1;33m]\u001b[0m\u001b[1;33m)\u001b[0m\u001b[1;33m\u001b[0m\u001b[0m\n\u001b[0;32m      3\u001b[0m \u001b[1;32mfor\u001b[0m \u001b[0mi\u001b[0m\u001b[1;33m,\u001b[0m \u001b[0mtxt\u001b[0m \u001b[1;32min\u001b[0m \u001b[0menumerate\u001b[0m\u001b[1;33m(\u001b[0m\u001b[0mk\u001b[0m\u001b[1;33m)\u001b[0m\u001b[1;33m:\u001b[0m\u001b[1;33m\u001b[0m\u001b[0m\n\u001b[1;32m----> 4\u001b[1;33m     \u001b[0max\u001b[0m\u001b[1;33m.\u001b[0m\u001b[0mannotate\u001b[0m\u001b[1;33m(\u001b[0m\u001b[0mtxt\u001b[0m\u001b[1;33m,\u001b[0m \u001b[1;33m(\u001b[0m\u001b[0me\u001b[0m\u001b[1;33m[\u001b[0m\u001b[0mi\u001b[0m\u001b[1;33m,\u001b[0m\u001b[1;36m0\u001b[0m\u001b[1;33m]\u001b[0m\u001b[1;33m,\u001b[0m\u001b[0me\u001b[0m\u001b[1;33m[\u001b[0m\u001b[0mi\u001b[0m\u001b[1;33m,\u001b[0m\u001b[1;36m1\u001b[0m\u001b[1;33m]\u001b[0m\u001b[1;33m)\u001b[0m\u001b[1;33m)\u001b[0m\u001b[1;33m\u001b[0m\u001b[0m\n\u001b[0m",
      "\u001b[1;31mIndexError\u001b[0m: index 22 is out of bounds for axis 0 with size 22"
     ]
    },
    {
     "data": {
      "image/png": "[encoded data removed]",
      "text/plain": [
       "<matplotlib.figure.Figure at 0x1ef67a0d240>"
      ]
     },
     "metadata": {},
     "output_type": "display_data"
    }
   ],
   "source": [
    "fig, ax = plt.subplots()\n",
    "ax.scatter(e[:,0], e[:,1])\n",
    "for i, txt in enumerate(k):\n",
    "    ax.annotate(txt, (e[i,0],e[i,1]))"
   ]
  },
  {
   "cell_type": "code",
   "execution_count": 9,
   "metadata": {},
   "outputs": [
    {
     "name": "stdout",
     "output_type": "stream",
     "text": [
      "-------------------------------\n",
      "Current epoch: 0\n",
      "Current Percent ->\n",
      "0->5->10->14->19->24->29->34->38->43->48->53->58->62->67->72->77->82->87->91->96->\n",
      "Training epoch total loss: 115.03407984972\n",
      "Validation loss 0.9283412098884583, accuracy 0.5476190447807312\n",
      "Accuracy improving -> saving model\n",
      "-------------------------------\n",
      "Current epoch: 1\n",
      "Current Percent ->\n",
      "0->5->10->14->19->24->29->34->38->43->48->53->58->62->67->72->77->82->87->91->96->\n",
      "Training epoch total loss: 100.39822602272034\n",
      "Validation loss 0.8752578496932983, accuracy 0.5833333134651184\n",
      "Accuracy improving -> saving model\n",
      "-------------------------------\n",
      "Current epoch: 2\n",
      "Current Percent ->\n",
      "0->5->10->14->19->24->29->34->38->43->48->53->58->62->67->72->77->82->87->91->96->\n",
      "Training epoch total loss: 94.75166952610016\n",
      "Validation loss 0.8168768286705017, accuracy 0.6139456033706665\n",
      "Accuracy improving -> saving model\n",
      "-------------------------------\n",
      "Current epoch: 3\n",
      "Current Percent ->\n",
      "0->5->10->14->19->24->29->34->38->43->48->53->58->62->67->72->77->82->87->91->96->\n",
      "Training epoch total loss: 90.4675605893135\n",
      "Validation loss 0.8071814179420471, accuracy 0.6352040767669678\n",
      "Accuracy improving -> saving model\n",
      "-------------------------------\n",
      "Current epoch: 4\n",
      "Current Percent ->\n",
      "0->5->10->14->19->24->29->34->38->43->48->53->58->62->67->72->77->82->87->91->96->\n",
      "Training epoch total loss: 87.16786241531372\n",
      "Validation loss 0.7505663633346558, accuracy 0.6394557952880859\n",
      "Accuracy improving -> saving model\n",
      "-------------------------------\n",
      "Current epoch: 5\n",
      "Current Percent ->\n",
      "0->5->10->14->19->24->29->34->38->43->48->53->58->62->67->72->77->82->87->91->96->\n",
      "Training epoch total loss: 85.9497120976448\n",
      "Validation loss 0.7425211071968079, accuracy 0.6649659872055054\n",
      "Accuracy improving -> saving model\n",
      "-------------------------------\n",
      "Current epoch: 6\n",
      "Current Percent ->\n",
      "0->5->10->14->19->24->29->34->38->43->48->53->58->62->67->72->77->82->87->91->96->\n",
      "Training epoch total loss: 82.6350166797638\n",
      "Validation loss 0.7611654996871948, accuracy 0.6437074542045593\n",
      "Accuracy decreasing -> current patience 1\n",
      "-------------------------------\n",
      "Current epoch: 7\n",
      "Current Percent ->\n",
      "0->5->10->14->19->24->29->34->38->43->48->53->58->62->67->72->77->82->87->91->96->\n",
      "Training epoch total loss: 82.12630379199982\n",
      "Validation loss 0.7429980039596558, accuracy 0.6301020383834839\n",
      "Accuracy decreasing -> current patience 2\n",
      "-------------------------------\n",
      "Current epoch: 8\n",
      "Current Percent ->\n",
      "0->5->10->14->19->24->29->34->38->43->48->53->58->62->67->72->77->82->87->91->96->\n",
      "Training epoch total loss: 80.50367629528046\n",
      "Validation loss 0.7176850438117981, accuracy 0.6505101919174194\n",
      "Accuracy decreasing -> current patience 3\n",
      "-------------------------------\n",
      "Current epoch: 9\n",
      "Current Percent ->\n",
      "0->5->10->14->19->24->29->34->38->43->48->53->58->62->67->72->77->82->87->91->96->\n",
      "Training epoch total loss: 80.36848765611649\n",
      "Validation loss 0.7331969738006592, accuracy 0.6598639488220215\n",
      "Accuracy decreasing -> current patience 4\n",
      "-------------------------------\n",
      "Current epoch: 10\n",
      "Current Percent ->\n",
      "0->5->10->14->19->24->29->34->38->43->48->53->58->62->67->72->77->82->87->91->96->\n",
      "Training epoch total loss: 79.79801744222641\n",
      "Validation loss 0.7056798338890076, accuracy 0.6598639488220215\n",
      "Accuracy decreasing -> current patience 5\n",
      "Training stopping through early stopping\n",
      "-------------------------------\n",
      "Current epoch: 11\n",
      "Current Percent ->\n",
      "0->5->10->14->19->24->29->34->38->43->48->53->58->62->67->72->77->82->87->91->96->\n",
      "Training epoch total loss: 77.5572921037674\n",
      "Validation loss 0.7208133339881897, accuracy 0.6777210831642151\n",
      "Accuracy improving -> saving model\n",
      "-------------------------------\n",
      "Current epoch: 12\n",
      "Current Percent ->\n",
      "0->5->10->14->19->24->29->34->38->43->48->53->58->62->67->72->77->82->87->91->96->\n",
      "Training epoch total loss: 78.69670784473419\n",
      "Validation loss 0.7201902866363525, accuracy 0.6743197441101074\n",
      "Accuracy decreasing -> current patience 1\n",
      "-------------------------------\n",
      "Current epoch: 13\n",
      "Current Percent ->\n",
      "0->5->10->14->19->24->29->34->38->43->48->53->58->62->67->72->77->82->87->91->96->\n",
      "Training epoch total loss: 77.29409795999527\n",
      "Validation loss 0.7586209774017334, accuracy 0.6190476417541504\n",
      "Accuracy decreasing -> current patience 2\n",
      "-------------------------------\n",
      "Current epoch: 14\n",
      "Current Percent ->\n",
      "0->5->10->14->19->24->29->34->38->43->48->53->58->62->67->72->77->82->87->91->96->\n",
      "Training epoch total loss: 79.16980135440826\n",
      "Validation loss 0.7182363867759705, accuracy 0.6590136289596558\n",
      "Accuracy decreasing -> current patience 3\n",
      "-------------------------------\n",
      "Current epoch: 15\n",
      "Current Percent ->\n",
      "0->5->10->14->19->24->29->34->38->43->48->53->58->62->67->72->77->82->87->91->96->\n",
      "Training epoch total loss: 76.67630296945572\n",
      "Validation loss 0.6995835304260254, accuracy 0.6675170063972473\n",
      "Accuracy decreasing -> current patience 4\n",
      "-------------------------------\n",
      "Current epoch: 16\n",
      "Current Percent ->\n",
      "0->5->10->14->19->24->29->34->38->43->48->53->58->62->67->72->77->82->87->91->96->\n",
      "Training epoch total loss: 76.94197350740433\n",
      "Validation loss 0.7063536047935486, accuracy 0.6760203838348389\n",
      "Accuracy decreasing -> current patience 5\n",
      "Training stopping through early stopping\n",
      "-------------------------------\n",
      "Current epoch: 17\n",
      "Current Percent ->\n",
      "0->5->10->14->19->24->29->34->38->43->48->53->58->62->67->72->77->82->87->91->96->\n",
      "Training epoch total loss: 75.6217091679573\n",
      "Validation loss 0.7454968690872192, accuracy 0.636904776096344\n",
      "Accuracy decreasing -> current patience 6\n",
      "Training stopping through early stopping\n",
      "-------------------------------\n",
      "Current epoch: 18\n",
      "Current Percent ->\n",
      "0->5->10->14->19->24->29->34->38->43->48->53->58->62->67->72->77->82->87->91->96->\n",
      "Training epoch total loss: 77.03863245248795\n",
      "Validation loss 0.7148414254188538, accuracy 0.6496598720550537\n",
      "Accuracy decreasing -> current patience 7\n",
      "Training stopping through early stopping\n",
      "-------------------------------\n",
      "Current epoch: 19\n",
      "Current Percent ->\n",
      "0->5->10->14->19->24->29->34->38->43->48->53->58->62->67->72->77->82->87->91->96->\n",
      "Training epoch total loss: 75.43845617771149\n",
      "Validation loss 0.6896113157272339, accuracy 0.6675170063972473\n",
      "Accuracy decreasing -> current patience 8\n",
      "Training stopping through early stopping\n",
      "-------------------------------\n",
      "Current epoch: 20\n",
      "Current Percent ->\n",
      "0->5->10->14->19->24->29->34->38->43->48->53->58->62->67->72->77->82->87->91->96->\n",
      "Training epoch total loss: 73.94381988048553\n",
      "Validation loss 0.7031407356262207, accuracy 0.6573129296302795\n",
      "Accuracy decreasing -> current patience 9\n",
      "Training stopping through early stopping\n",
      "-------------------------------\n",
      "Current epoch: 21\n",
      "Current Percent ->\n",
      "0->5->10->14->19->24->29->34->38->43->48->53->58->62->67->72->77->82->87->91->96->\n",
      "Training epoch total loss: 74.27378410100937\n",
      "Validation loss 0.7233259677886963, accuracy 0.6539115905761719\n",
      "Accuracy decreasing -> current patience 10\n",
      "Training stopping through early stopping\n",
      "-------------------------------\n",
      "Current epoch: 22\n",
      "Current Percent ->\n",
      "0->5->10->14->19->24->29->34->38->43->48->53->58->62->67->72->77->82->87->91->96->\n",
      "Training epoch total loss: 73.65351206064224\n",
      "Validation loss 0.6953153014183044, accuracy 0.6692177057266235\n",
      "Accuracy decreasing -> current patience 11\n",
      "Training stopping through early stopping\n",
      "-------------------------------\n",
      "Current epoch: 23\n",
      "Current Percent ->\n",
      "0->5->10->14->19->24->29->34->38->43->48->53->58->62->67->72->77->82->87->91->96->\n",
      "Training epoch total loss: 74.02287223935127\n",
      "Validation loss 0.7260651588439941, accuracy 0.6581632494926453\n",
      "Accuracy decreasing -> current patience 12\n",
      "Training stopping through early stopping\n",
      "-------------------------------\n",
      "Current epoch: 24\n",
      "Current Percent ->\n",
      "0->5->10->14->19->24->29->34->38->43->48->53->58->62->67->72->77->82->87->91->96->\n",
      "Training epoch total loss: 72.02816501259804\n",
      "Validation loss 0.6920989155769348, accuracy 0.6785714030265808\n",
      "Accuracy improving -> saving model\n"
     ]
    }
   ],
   "source": [
    "#Batch Training using Early Stopping\n",
    "\n",
    "BATCH_SIZE = 64\n",
    "EPOCHS = 25\n",
    "N = len(train_y)\n",
    "patience = 5\n",
    "saver = tf.train.Saver()\n",
    "\n",
    "with tf.Session() as sess:\n",
    "    sess.run(tf.global_variables_initializer())\n",
    "    best_val_accuracy = 0\n",
    "    current_patience = 0\n",
    "    for epoch in range(0,EPOCHS):\n",
    "        print(\"-------------------------------\")\n",
    "        print(\"Current epoch: {}\".format(epoch))\n",
    "        print(\"Current Percent ->\")\n",
    "        ordering = np.random.permutation(N)\n",
    "        total_loss = 0\n",
    "        for i in range(N // BATCH_SIZE):\n",
    "            indices = ordering[i*BATCH_SIZE : (i+1)*BATCH_SIZE]\n",
    "            b_sequences = train_x[indices]\n",
    "            b_sequences_back = train_xb[indices]\n",
    "            b_labels = train_y[indices]\n",
    "            b_seq_lens = train_len[indices]\n",
    "            feed_dict = {sequences: b_sequences, sequences_back: b_sequences_back, \n",
    "                         labels: b_labels, seq_lengths: b_seq_lens, dropout_prob_lstm: 0.2, \n",
    "                        dropout_prob_mlp: 0.5}\n",
    "            _, l = sess.run([opt, loss], feed_dict=feed_dict)\n",
    "            total_loss += l\n",
    "            \n",
    "            if i % 5 == 0:\n",
    "                print(str(round(i / (N // BATCH_SIZE)*100)) + \"->\" , end='')\n",
    "        print(\"\")    \n",
    "        print(\"Training epoch total loss: {}\".format(total_loss))\n",
    "        feed_dict = {sequences: val_x, sequences_back: val_xb, labels: val_y, seq_lengths: val_len,\n",
    "                    dropout_prob_lstm: 0.0, dropout_prob_mlp: 0.0}\n",
    "        l, a = sess.run([loss, accuracy], feed_dict=feed_dict)\n",
    "        print(\"Validation loss {}, accuracy {}\".format(l, a))\n",
    "        if a > best_val_accuracy:\n",
    "            print(\"Accuracy improving -> saving model\")\n",
    "            best_val_accuracy = a\n",
    "            current_patience = 0\n",
    "            save_path = saver.save(sess, './Model/400_64_96/best2')\n",
    "        else:\n",
    "            current_patience += 1\n",
    "            print(\"Accuracy decreasing -> current patience {}\".format(current_patience))\n",
    "        if current_patience >= patience:\n",
    "            print(\"Training stopping through early stopping\")\n",
    "            "
   ]
  },
  {
   "cell_type": "code",
   "execution_count": 4,
   "metadata": {},
   "outputs": [
    {
     "name": "stdout",
     "output_type": "stream",
     "text": [
      "Loading file: ./Data/nucleus.fasta.txt...\n",
      "... Success\n",
      "Loading file: ./Data/cyto.fasta.txt...\n",
      "... Success\n",
      "Loading file: ./Data/mito.fasta.txt...\n",
      "... Success\n",
      "Loading file: ./Data/secreted.fasta.txt...\n",
      "... Success\n",
      "Converting data to pandas DataFrame\n",
      "Success\n",
      "Adding Sequence Length...\n",
      "Success\n",
      "Numerating Sequences...\n",
      "Getting Attributes...\n",
      "Success\n",
      "Expanding Attribute: Sequence Weights...\n",
      "Convolving...\n",
      "k3 Done\n",
      "k5 Done\n",
      "k7 Done\n",
      "Expanding Attribute: Sequence Isoelectric...\n",
      "Convolving...\n",
      "k3 Done\n",
      "k5 Done\n",
      "k7 Done\n",
      "Expanding Attribute: Sequence Hyrophobicity...\n",
      "Convolving...\n",
      "k3 Done\n",
      "k5 Done\n",
      "k7 Done\n",
      "Expanding Attribute: Sequence Acidity...\n",
      "Convolving...\n",
      "k3 Done\n",
      "k5 Done\n",
      "k7 Done\n",
      "Adding Amino Acid Counts...\n",
      "Success\n",
      "Adding Percentages...\n",
      "Success\n",
      "Extracting aromatic features...\n",
      "Done\n",
      "Exploding feature: Amino Acid Percentage\n",
      "Success\n",
      "Exploding feature: Amino Acid Percentage Start\n",
      "Success\n",
      "Exploding feature: Amino Acid Percentage End\n",
      "Success\n"
     ]
    }
   ],
   "source": [
    "#Gradient Boosting\n",
    "GB = GradientBooster()\n",
    "GB.add_features()\n",
    "GB.get_labels_and_data()"
   ]
  },
  {
   "cell_type": "code",
   "execution_count": 2,
   "metadata": {},
   "outputs": [
    {
     "ename": "NameError",
     "evalue": "name 'AMINO_VECTOR' is not defined",
     "output_type": "error",
     "traceback": [
      "\u001b[1;31m---------------------------------------------------------------------------\u001b[0m",
      "\u001b[1;31mNameError\u001b[0m                                 Traceback (most recent call last)",
      "\u001b[1;32m<ipython-input-2-3d3e5be263ac>\u001b[0m in \u001b[0;36m<module>\u001b[1;34m()\u001b[0m\n\u001b[1;32m----> 1\u001b[1;33m \u001b[0mAMINO_VECTOR\u001b[0m\u001b[1;33m\u001b[0m\u001b[0m\n\u001b[0m",
      "\u001b[1;31mNameError\u001b[0m: name 'AMINO_VECTOR' is not defined"
     ]
    }
   ],
   "source": [
    "AMINO_VECTOR"
   ]
  },
  {
   "cell_type": "code",
   "execution_count": 5,
   "metadata": {},
   "outputs": [],
   "source": [
    "gb_train_x, gb_train_y, gb_test_x, gb_test_y = GB.create_train_test_set(ordering=order)"
   ]
  },
  {
   "cell_type": "code",
   "execution_count": 6,
   "metadata": {},
   "outputs": [
    {
     "name": "stdout",
     "output_type": "stream",
     "text": [
      "[CV]  ................................................................\n",
      "[CV] ................................................. , total= 1.3min\n",
      "[CV]  ................................................................\n"
     ]
    },
    {
     "name": "stderr",
     "output_type": "stream",
     "text": [
      "[Parallel(n_jobs=1)]: Done   1 out of   1 | elapsed:  1.3min remaining:    0.0s\n"
     ]
    },
    {
     "name": "stdout",
     "output_type": "stream",
     "text": [
      "[CV] ................................................. , total= 1.4min\n",
      "[CV]  ................................................................\n",
      "[CV] ................................................. , total= 1.4min\n",
      "[CV]  ................................................................\n",
      "[CV] ................................................. , total= 1.4min\n",
      "[CV]  ................................................................\n",
      "[CV] ................................................. , total= 1.4min\n"
     ]
    },
    {
     "name": "stderr",
     "output_type": "stream",
     "text": [
      "[Parallel(n_jobs=1)]: Done   5 out of   5 | elapsed:  6.8min finished\n"
     ]
    }
   ],
   "source": [
    "model = ensemble.GradientBoostingClassifier(n_estimators=200, subsample=0.8, max_depth=5)\n",
    "cross_val = model_selection.cross_val_score(model, gb_train_x, gb_train_y, cv=5, verbose=2)"
   ]
  },
  {
   "cell_type": "code",
   "execution_count": 7,
   "metadata": {},
   "outputs": [
    {
     "data": {
      "text/plain": [
       "0.6920515523422307"
      ]
     },
     "execution_count": 7,
     "metadata": {},
     "output_type": "execute_result"
    }
   ],
   "source": [
    "cross_val.mean()"
   ]
  },
  {
   "cell_type": "code",
   "execution_count": 8,
   "metadata": {},
   "outputs": [
    {
     "data": {
      "text/plain": [
       "GradientBoostingClassifier(criterion='friedman_mse', init=None,\n",
       "              learning_rate=0.1, loss='deviance', max_depth=5,\n",
       "              max_features=None, max_leaf_nodes=None,\n",
       "              min_impurity_decrease=0.0, min_impurity_split=None,\n",
       "              min_samples_leaf=1, min_samples_split=2,\n",
       "              min_weight_fraction_leaf=0.0, n_estimators=200,\n",
       "              presort='auto', random_state=None, subsample=0.8, verbose=0,\n",
       "              warm_start=False)"
      ]
     },
     "execution_count": 8,
     "metadata": {},
     "output_type": "execute_result"
    }
   ],
   "source": [
    "model.fit(gb_train_x, gb_train_y)"
   ]
  },
  {
   "cell_type": "code",
   "execution_count": 17,
   "metadata": {},
   "outputs": [
    {
     "name": "stdout",
     "output_type": "stream",
     "text": [
      "INFO:tensorflow:Restoring parameters from ./Model/400_64_96/best2\n"
     ]
    }
   ],
   "source": [
    "saver = tf.train.Saver()\n",
    "\n",
    "with tf.Session() as sess:\n",
    "    saver.restore(sess, './Model/400_64_96/best2')\n",
    "    feed_dict = {sequences: test_x, sequences_back: test_xb, labels: test_y, seq_lengths: test_len,\n",
    "                dropout_prob_lstm: 0.0, dropout_prob_mlp: 0.0}\n",
    "    p = sess.run([prob], feed_dict=feed_dict)"
   ]
  },
  {
   "cell_type": "code",
   "execution_count": 18,
   "metadata": {},
   "outputs": [
    {
     "data": {
      "text/plain": [
       "(1383, 4)"
      ]
     },
     "execution_count": 18,
     "metadata": {},
     "output_type": "execute_result"
    }
   ],
   "source": [
    "gb_pred = model.predict_proba(gb_test_x)\n",
    "gb_pred.shape"
   ]
  },
  {
   "cell_type": "code",
   "execution_count": 19,
   "metadata": {},
   "outputs": [],
   "source": [
    "p = p[0]"
   ]
  },
  {
   "cell_type": "code",
   "execution_count": 20,
   "metadata": {},
   "outputs": [
    {
     "data": {
      "text/plain": [
       "(1383, 4)"
      ]
     },
     "execution_count": 20,
     "metadata": {},
     "output_type": "execute_result"
    }
   ],
   "source": [
    "p.shape"
   ]
  },
  {
   "cell_type": "code",
   "execution_count": 21,
   "metadata": {},
   "outputs": [
    {
     "data": {
      "text/plain": [
       "array([2, 2, 0, ..., 2, 1, 2], dtype=int64)"
      ]
     },
     "execution_count": 21,
     "metadata": {},
     "output_type": "execute_result"
    }
   ],
   "source": [
    "pred = gb_pred + p\n",
    "pred = pred.argmax(axis=1)\n",
    "pred"
   ]
  },
  {
   "cell_type": "code",
   "execution_count": 22,
   "metadata": {},
   "outputs": [
    {
     "data": {
      "text/plain": [
       "0.7288503253796096"
      ]
     },
     "execution_count": 22,
     "metadata": {},
     "output_type": "execute_result"
    }
   ],
   "source": [
    "(pred == gb_test_y).mean()"
   ]
  },
  {
   "cell_type": "code",
   "execution_count": 23,
   "metadata": {},
   "outputs": [
    {
     "name": "stdout",
     "output_type": "stream",
     "text": [
      "[[285  23 132   6]\n",
      " [ 22 149   5  11]\n",
      " [137  16 349  10]\n",
      " [  9   3   1 225]]\n"
     ]
    }
   ],
   "source": [
    "#Confision Matrix\n",
    "cf = metrics.confusion_matrix(gb_test_y, pred)\n",
    "print(cf)"
   ]
  },
  {
   "cell_type": "code",
   "execution_count": 24,
   "metadata": {},
   "outputs": [
    {
     "data": {
      "text/plain": [
       "0.727772458683401"
      ]
     },
     "execution_count": 24,
     "metadata": {},
     "output_type": "execute_result"
    }
   ],
   "source": [
    "#F1 Score\n",
    "f1 = metrics.f1_score(gb_test_y, pred, average='weighted')\n",
    "f1"
   ]
  },
  {
   "cell_type": "code",
   "execution_count": 25,
   "metadata": {},
   "outputs": [
    {
     "name": "stdout",
     "output_type": "stream",
     "text": [
      "0.727325682379027\n",
      "0.7288503253796096\n"
     ]
    }
   ],
   "source": [
    "# Precision and Recall score\n",
    "precision = metrics.precision_score(gb_test_y, pred, average='weighted')\n",
    "recall = metrics.recall_score(gb_test_y, pred, average='weighted')\n",
    "\n",
    "print(precision)\n",
    "print(recall)"
   ]
  },
  {
   "cell_type": "code",
   "execution_count": 26,
   "metadata": {},
   "outputs": [
    {
     "data": {
      "text/plain": [
       "array([[3.75355577e-01, 1.36608071e-02, 6.07891448e-01, 3.09213786e-03],\n",
       "       [8.70086045e-02, 8.17590077e-04, 9.11685146e-01, 4.88665586e-04],\n",
       "       [7.45644356e-01, 9.80990886e-03, 2.42733949e-01, 1.81178712e-03],\n",
       "       ...,\n",
       "       [4.25462720e-01, 2.21895123e-02, 5.47571172e-01, 4.77660780e-03],\n",
       "       [2.02504204e-01, 6.26590568e-01, 1.56515520e-01, 1.43897026e-02],\n",
       "       [1.78559498e-01, 3.19615654e-01, 4.93796645e-01, 8.02818551e-03]])"
      ]
     },
     "execution_count": 26,
     "metadata": {},
     "output_type": "execute_result"
    }
   ],
   "source": [
    "probs = (gb_pred + p)/2\n",
    "probs"
   ]
  },
  {
   "cell_type": "code",
   "execution_count": 27,
   "metadata": {},
   "outputs": [],
   "source": [
    "def one_vs_all(focus, labels, probs):\n",
    "    labels = (labels==focus).astype(int)\n",
    "    probs = probs[:, focus]\n",
    "    return labels, probs    "
   ]
  },
  {
   "cell_type": "code",
   "execution_count": 28,
   "metadata": {},
   "outputs": [],
   "source": [
    "ova_0_labels, ova_0_probs = one_vs_all(0, gb_test_y, probs)\n",
    "ova_1_labels, ova_1_probs = one_vs_all(1, gb_test_y, probs)\n",
    "ova_2_labels, ova_2_probs = one_vs_all(2, gb_test_y, probs)\n",
    "ova_3_labels, ova_3_probs = one_vs_all(3, gb_test_y, probs)"
   ]
  },
  {
   "cell_type": "code",
   "execution_count": 29,
   "metadata": {},
   "outputs": [],
   "source": [
    "fpr_0, tpr_0, _ = metrics.roc_curve(ova_0_labels, ova_0_probs)\n",
    "fpr_1, tpr_1, _ = metrics.roc_curve(ova_1_labels, ova_1_probs)\n",
    "fpr_2, tpr_2, _ = metrics.roc_curve(ova_2_labels, ova_2_probs)\n",
    "fpr_3, tpr_3, _ = metrics.roc_curve(ova_3_labels, ova_3_probs)\n",
    "auc_0 = metrics.roc_auc_score(ova_0_labels, ova_0_probs)\n",
    "auc_1 = metrics.roc_auc_score(ova_1_labels, ova_1_probs)\n",
    "auc_2 = metrics.roc_auc_score(ova_2_labels, ova_2_probs)\n",
    "auc_3 = metrics.roc_auc_score(ova_3_labels, ova_3_probs)"
   ]
  },
  {
   "cell_type": "code",
   "execution_count": 30,
   "metadata": {},
   "outputs": [
    {
     "data": {
      "image/png": "[encoded data removed]",
      "text/plain": [
       "<matplotlib.figure.Figure at 0x21247f5c2e8>"
      ]
     },
     "metadata": {},
     "output_type": "display_data"
    }
   ],
   "source": [
    "plt.figure()\n",
    "plt.plot(fpr_0, tpr_0, label='Cyto - AUC {}'.format(round(auc_0,3)))\n",
    "plt.plot(fpr_1, tpr_1, label='Mito - AUC {}'.format(round(auc_1,3)))\n",
    "plt.plot(fpr_2, tpr_2, label='Nucleus - AUC {}'.format(round(auc_2,3)))\n",
    "plt.plot(fpr_3, tpr_3, label='Secreted - AUC {}'.format(round(auc_3,3)))\n",
    "plt.plot([0,1], [0,1], color='black', linestyle='--')\n",
    "plt.xlabel('False Positive Rate')\n",
    "plt.ylabel('True Positive Rate')\n",
    "plt.grid()\n",
    "plt.legend(loc=\"lower right\")\n",
    "plt.show()"
   ]
  },
  {
   "cell_type": "code",
   "execution_count": 31,
   "metadata": {},
   "outputs": [
    {
     "name": "stdout",
     "output_type": "stream",
     "text": [
      "Normalized confusion matrix\n",
      "[[0.63901345 0.05156951 0.29596413 0.01345291]\n",
      " [0.11764706 0.79679144 0.02673797 0.05882353]\n",
      " [0.26757812 0.03125    0.68164062 0.01953125]\n",
      " [0.03781513 0.01260504 0.00420168 0.94537815]]\n"
     ]
    },
    {
     "data": {
      "image/png": "[encoded data removed]",
      "text/plain": [
       "<matplotlib.figure.Figure at 0x21247f42cc0>"
      ]
     },
     "metadata": {},
     "output_type": "display_data"
    }
   ],
   "source": [
    "plot_confusion_matrix(cf, ['Cytosol', 'Mitchondria', 'Nucleus', 'Secreted'], normalize=True)"
   ]
  },
  {
   "cell_type": "code",
   "execution_count": 32,
   "metadata": {},
   "outputs": [],
   "source": [
    "nuc_true = gb_test_y == 2\n",
    "nuc_pred = pred == 2\n",
    "cy_true = gb_test_y == 0\n",
    "cy_pred = pred == 0"
   ]
  },
  {
   "cell_type": "code",
   "execution_count": 33,
   "metadata": {},
   "outputs": [],
   "source": [
    "nuc_t_nuc_p = nuc_pred * nuc_true\n",
    "nuc_t_cy_p = nuc_true * cy_pred\n",
    "cy_t_cy_p = cy_true * cy_pred\n",
    "cy_t_nuc_p = cy_true * nuc_pred"
   ]
  },
  {
   "cell_type": "code",
   "execution_count": 34,
   "metadata": {},
   "outputs": [
    {
     "name": "stdout",
     "output_type": "stream",
     "text": [
      "0.6833053094949123\n",
      "0.570073906100947\n",
      "0.6053619828449631\n",
      "0.5986111288222693\n"
     ]
    }
   ],
   "source": [
    "#Probabilities\n",
    "\n",
    "print(probs[nuc_t_nuc_p].max(axis=1).mean())\n",
    "print(probs[nuc_t_cy_p].max(axis=1).mean())\n",
    "print(probs[cy_t_cy_p].max(axis=1).mean())\n",
    "print(probs[cy_t_nuc_p].max(axis=1).mean())"
   ]
  },
  {
   "cell_type": "code",
   "execution_count": 35,
   "metadata": {},
   "outputs": [
    {
     "data": {
      "image/png": "[encoded data removed]",
      "text/plain": [
       "<matplotlib.figure.Figure at 0x21247fd0160>"
      ]
     },
     "metadata": {},
     "output_type": "display_data"
    }
   ],
   "source": [
    "bins = np.linspace(0, 1, 40)\n",
    "plt.hist(probs[nuc_t_nuc_p].max(axis=1), bins, label =\"Nucleus predicted correctly\", alpha=0.5)\n",
    "plt.hist(probs[nuc_t_cy_p].max(axis=1), bins, label =\"Nucleus predicted, Cytosol true\", alpha=0.5)\n",
    "plt.legend(loc='upper left')\n",
    "plt.show()"
   ]
  },
  {
   "cell_type": "code",
   "execution_count": 36,
   "metadata": {},
   "outputs": [
    {
     "data": {
      "image/png": "[encoded data removed]",
      "text/plain": [
       "<matplotlib.figure.Figure at 0x21248146080>"
      ]
     },
     "metadata": {},
     "output_type": "display_data"
    }
   ],
   "source": [
    "bins = np.linspace(0, 1, 40)\n",
    "plt.hist(probs[cy_t_cy_p].max(axis=1), bins, label =\"Cytosol predicted correctly\", alpha=0.5)\n",
    "plt.hist(probs[cy_t_nuc_p].max(axis=1), bins, label =\"Cytosol predicted, Nucleus true\", alpha=0.5)\n",
    "plt.legend(loc='upper left')\n",
    "plt.show()"
   ]
  },
  {
   "cell_type": "code",
   "execution_count": 52,
   "metadata": {},
   "outputs": [],
   "source": [
    "correct = gb_test_y == pred\n",
    "incorrect = gb_test_y != pred\n",
    "test_lens = np.array(GB.data['Sequence Length'])[order][:round(0.15*len(order))]"
   ]
  },
  {
   "cell_type": "code",
   "execution_count": 75,
   "metadata": {},
   "outputs": [
    {
     "data": {
      "text/plain": [
       "(array([48., 48., 43., 38., 56., 59., 72., 56., 44., 39., 50., 61., 46.,\n",
       "        31., 35., 27., 29., 20., 18., 19., 15.,  9., 16.,  8., 11., 12.,\n",
       "        10.,  7.,  9.,  9.,  3.,  6.,  6.,  0.,  3.,  5.,  2.,  3.,  1.,\n",
       "         4.,  5.,  3.,  3.,  0.,  1.,  0.,  1.,  3.,  2.]),\n",
       " array([   0.        ,   40.81632653,   81.63265306,  122.44897959,\n",
       "         163.26530612,  204.08163265,  244.89795918,  285.71428571,\n",
       "         326.53061224,  367.34693878,  408.16326531,  448.97959184,\n",
       "         489.79591837,  530.6122449 ,  571.42857143,  612.24489796,\n",
       "         653.06122449,  693.87755102,  734.69387755,  775.51020408,\n",
       "         816.32653061,  857.14285714,  897.95918367,  938.7755102 ,\n",
       "         979.59183673, 1020.40816327, 1061.2244898 , 1102.04081633,\n",
       "        1142.85714286, 1183.67346939, 1224.48979592, 1265.30612245,\n",
       "        1306.12244898, 1346.93877551, 1387.75510204, 1428.57142857,\n",
       "        1469.3877551 , 1510.20408163, 1551.02040816, 1591.83673469,\n",
       "        1632.65306122, 1673.46938776, 1714.28571429, 1755.10204082,\n",
       "        1795.91836735, 1836.73469388, 1877.55102041, 1918.36734694,\n",
       "        1959.18367347, 2000.        ]),\n",
       " <a list of 49 Patch objects>)"
      ]
     },
     "execution_count": 75,
     "metadata": {},
     "output_type": "execute_result"
    },
    {
     "data": {
      "image/png": "[encoded data removed]",
      "text/plain": [
       "<matplotlib.figure.Figure at 0x21248001940>"
      ]
     },
     "metadata": {},
     "output_type": "display_data"
    }
   ],
   "source": [
    "correct_lens = test_lens[correct]\n",
    "incorrect_lens = test_lens[incorrect]\n",
    "bins = np.linspace(0,2000, 50)\n",
    "plt.hist(correct_lens, bins)"
   ]
  },
  {
   "cell_type": "code",
   "execution_count": 110,
   "metadata": {},
   "outputs": [
    {
     "data": {
      "text/plain": [
       "array([0.03571429, 0.26627219, 0.2370892 , 0.3       , 0.39130435,\n",
       "       0.28947368, 0.29032258, 0.325     , 0.38461538, 0.2       ])"
      ]
     },
     "execution_count": 110,
     "metadata": {},
     "output_type": "execute_result"
    }
   ],
   "source": [
    "bins = [0, 50,250,500,750,1000,1250,1500,2000,3000,15000]\n",
    "correct_hist = np.histogram(correct_lens, bins)\n",
    "incorrect_hist = np.histogram(incorrect_lens, bins)\n",
    "proportion_lens = incorrect_hist[0] / (correct_hist[0] + incorrect_hist[0])\n",
    "proportion_lens"
   ]
  },
  {
   "cell_type": "code",
   "execution_count": 118,
   "metadata": {},
   "outputs": [
    {
     "data": {
      "text/plain": [
       "<matplotlib.axes._subplots.AxesSubplot at 0x2135f7f02e8>"
      ]
     },
     "execution_count": 118,
     "metadata": {},
     "output_type": "execute_result"
    },
    {
     "data": {
      "image/png": "[encoded data removed]",
      "text/plain": [
       "<matplotlib.figure.Figure at 0x2135f7c76d8>"
      ]
     },
     "metadata": {},
     "output_type": "display_data"
    }
   ],
   "source": [
    "x_axis = ['0-50', '51-250', '251-500', '501-750', '751-1000', '1001-1250' ,'1251-1500','1501-2000','2001-3000','3000+']\n",
    "#x_axis = ['50', '250', '500', '750', '1000', '1250' ,'1500','2000','3000','3000+']\n",
    "df = pd.DataFrame(proportion_lens)\n",
    "df['Bin'] = x_axis\n",
    "#plt.bar(x_axis, proportion_lens)\n",
    "df.plot(x='Bin', y=0, kind='bar', legend=False, color='b')"
   ]
  },
  {
   "cell_type": "code",
   "execution_count": null,
   "metadata": {},
   "outputs": [],
   "source": [
    "#Blind Test"
   ]
  },
  {
   "cell_type": "code",
   "execution_count": 58,
   "metadata": {},
   "outputs": [
    {
     "name": "stdout",
     "output_type": "stream",
     "text": [
      "Loading files...\n",
      "File 0: blind.fasta.txt with label Blind\n",
      "Done\n",
      "Converting labels, sequences to arrays, and created reversed sequence...\n",
      "Done\n",
      "Trimming forward and backward sequences to length 400\n",
      "Done\n"
     ]
    }
   ],
   "source": [
    "test_data = DataLoader(path='./Data/',verbose=True, ignoreX=True)\n",
    "test_data.load_files(['blind.fasta.txt'], ['Blind'])\n",
    "test_data.convert_all_to_array()\n",
    "test_data.trim_sequences(400)\n",
    "blind_test_x = test_data.sequences\n",
    "blind_test_xb = test_data.sequences_backwards\n",
    "blind_test_lens = test_data.seq_lengths"
   ]
  },
  {
   "cell_type": "code",
   "execution_count": 59,
   "metadata": {},
   "outputs": [
    {
     "name": "stdout",
     "output_type": "stream",
     "text": [
      "INFO:tensorflow:Restoring parameters from ./Model/400_64_96/best2\n"
     ]
    }
   ],
   "source": [
    "saver = tf.train.Saver()\n",
    "\n",
    "with tf.Session() as sess:\n",
    "    saver.restore(sess, './Model/400_64_96/best2')\n",
    "    feed_dict = {sequences: blind_test_x, sequences_back: blind_test_xb, seq_lengths: blind_test_lens,\n",
    "                dropout_prob_lstm: 0.0, dropout_prob_mlp: 0.0}\n",
    "    blind_p = sess.run([prob], feed_dict=feed_dict)"
   ]
  },
  {
   "cell_type": "code",
   "execution_count": 69,
   "metadata": {},
   "outputs": [
    {
     "name": "stdout",
     "output_type": "stream",
     "text": [
      "Loading file: ./Data/blind.fasta.txt...\n",
      "... Success\n",
      "Converting data to pandas DataFrame\n",
      "Success\n",
      "Example data:\n",
      "   Label                                           Sequence\n",
      "0  Blind  MESKGASSCRLLFCLLISATVFRPGLGWYTVNSAYGDTIIIPCRLD...\n",
      "1  Blind  MPGPRVWGKYLWRSPHSKGCPGAMWWLLLWGVLQACPTRGSVLLAQ...\n",
      "2  Blind  MDSRICTSFARLMASALCVSTLLVTAMPFDLRRGSSDTDLDLQGHV...\n",
      "3  Blind  MCSLGLFPPPPPRGQVTLYEHNNELVTGSSYESPPPDFRGQWINVP...\n",
      "4  Blind  MNPQIRNPMERMYRDTFYDNFENEPILYGRSYTWICYEVKIKRGRS...\n"
     ]
    }
   ],
   "source": [
    "test_data_2 = DataLoaderRF.DataLoader(path='./Data/')\n",
    "test_data_2.load_files(['blind.fasta.txt'], ['Blind'])\n",
    "test_data_2.convert_to_df()"
   ]
  },
  {
   "cell_type": "code",
   "execution_count": 70,
   "metadata": {},
   "outputs": [
    {
     "name": "stdout",
     "output_type": "stream",
     "text": [
      "Adding Sequence Length...\n",
      "Success\n",
      "Numerating Sequences...\n",
      "Getting Attributes...\n",
      "Success\n",
      "Expanding Attribute: Sequence Weights...\n",
      "Convolving...\n",
      "k3 Done\n",
      "k5 Done\n",
      "k7 Done\n",
      "Expanding Attribute: Sequence Isoelectric...\n",
      "Convolving...\n",
      "k3 Done\n",
      "k5 Done\n",
      "k7 Done\n",
      "Expanding Attribute: Sequence Hyrophobicity...\n",
      "Convolving...\n",
      "k3 Done\n",
      "k5 Done\n",
      "k7 Done\n",
      "Expanding Attribute: Sequence Acidity...\n",
      "Convolving...\n",
      "k3 Done\n",
      "k5 Done\n",
      "k7 Done\n",
      "Adding Amino Acid Counts...\n",
      "Success\n",
      "Adding Percentages...\n",
      "Success\n",
      "Extracting aromatic features...\n",
      "Done\n",
      "Exploding feature: Amino Acid Percentage\n",
      "Success\n",
      "Exploding feature: Amino Acid Percentage Start\n",
      "Success\n",
      "Exploding feature: Amino Acid Percentage End\n",
      "Success\n"
     ]
    }
   ],
   "source": [
    "#Feature Selection\n",
    "\n",
    "FeatureSelection.sequence_length(test_data_2.data)\n",
    "FeatureSelection.numerate_sequence_and_attributes(test_data_2.data)\n",
    "FeatureSelection.expand_attributes(test_data_2.data)\n",
    "FeatureSelection.amino_acid_count(test_data_2.data)\n",
    "FeatureSelection.amino_acid_percentage(test_data_2.data)\n",
    "FeatureSelection.aromatic_percentage(test_data_2.data)\n",
    "test_data_2.data = FeatureSelection.explode_feature(test_data_2.data, 'Amino Acid Percentage')\n",
    "test_data_2.data = FeatureSelection.explode_feature(test_data_2.data, 'Amino Acid Percentage Start')\n",
    "test_data_2.data = FeatureSelection.explode_feature(test_data_2.data, 'Amino Acid Percentage End')"
   ]
  },
  {
   "cell_type": "code",
   "execution_count": 74,
   "metadata": {},
   "outputs": [],
   "source": [
    "#Prepare data for GB\n",
    "\n",
    "features = ['Sequence Length Norm', 'Sequence Weights_mean', 'Sequence Weights_std', 'Sequence Isoelectric_mean',\n",
    "    'Sequence Isoelectric_std', 'Sequence Hyrophobicity_mean','Sequence Hyrophobicity_std', \n",
    "    'Sequence Acidity_mean','Sequence Acidity_std','Sequence Aromatic Percentage',\n",
    "    'Sequence Aromatic Percentage Start', 'Sequence Aromatic Percentage End']\n",
    "\n",
    "features = features + ['Amino Acid Percentage_' + str(x) for x in range(22)] #Using 22 since X ignored\n",
    "features = features + ['Amino Acid Percentage Start_' + str(x) for x in range(22)]\n",
    "features = features + ['Amino Acid Percentage End_' + str(x) for x in range(22)]\n",
    "\n",
    "conv_features = []\n",
    "for col in test_data_2.data.columns:\n",
    "    if 'k3_' in col or 'k5_' in col or 'k7_' in col:\n",
    "        conv_features.append(col)\n",
    "features = features + conv_features\n",
    "\n",
    "test_data_2.X = test_data_2.data[features]\n",
    "test_data_2.Y = test_data_2.data['Label']\n",
    "LE = preprocessing.LabelEncoder()\n",
    "test_data_2.Y = LE.fit_transform(test_data_2.Y)"
   ]
  },
  {
   "cell_type": "code",
   "execution_count": 77,
   "metadata": {},
   "outputs": [
    {
     "data": {
      "text/plain": [
       "array([0, 0, 0, 0, 0, 0, 0, 0, 0, 0, 0, 0, 0, 0, 0, 0, 0, 0, 0, 0],\n",
       "      dtype=int64)"
      ]
     },
     "execution_count": 77,
     "metadata": {},
     "output_type": "execute_result"
    }
   ],
   "source": [
    "test_data_2.Y"
   ]
  },
  {
   "cell_type": "code",
   "execution_count": 88,
   "metadata": {},
   "outputs": [],
   "source": [
    "#Prediction\n",
    "blind_gb_pred = model.predict_proba(test_data_2.X)\n",
    "blind_prediction_probs = (blind_gb_pred + blind_p)/2\n",
    "blind_predictions = blind_prediction_probs.argmax(axis=2)"
   ]
  },
  {
   "cell_type": "code",
   "execution_count": 90,
   "metadata": {},
   "outputs": [
    {
     "data": {
      "text/plain": [
       "array([[3, 3, 3, 2, 2, 2, 0, 0, 0, 1, 3, 1, 3, 3, 2, 2, 0, 2, 0, 2]],\n",
       "      dtype=int64)"
      ]
     },
     "execution_count": 90,
     "metadata": {},
     "output_type": "execute_result"
    }
   ],
   "source": [
    "blind_predictions"
   ]
  },
  {
   "cell_type": "code",
   "execution_count": 106,
   "metadata": {},
   "outputs": [
    {
     "data": {
      "text/plain": [
       "array([[[3.03783087e-01, 9.22152936e-02, 1.25376512e-01, 4.78625137e-01],\n",
       "        [5.40257621e-02, 9.35462542e-02, 5.67211587e-02, 7.95706816e-01],\n",
       "        [8.65689536e-02, 1.43541690e-01, 1.11223721e-01, 6.58665630e-01],\n",
       "        [3.54198912e-01, 3.17565841e-02, 6.03169251e-01, 1.08752422e-02],\n",
       "        [3.42593292e-01, 7.06714813e-02, 5.76035400e-01, 1.06998086e-02],\n",
       "        [1.84378803e-01, 2.63116198e-03, 8.10486143e-01, 2.50388759e-03],\n",
       "        [6.56240333e-01, 1.16773070e-01, 2.22064707e-01, 4.92191274e-03],\n",
       "        [6.80397477e-01, 6.81510328e-03, 3.08217377e-01, 4.57002595e-03],\n",
       "        [7.45881940e-01, 7.67638473e-02, 1.74946308e-01, 2.40786541e-03],\n",
       "        [1.94985078e-01, 6.68883846e-01, 8.50524320e-02, 5.10786496e-02],\n",
       "        [2.97746013e-01, 2.72738069e-01, 1.30402400e-01, 2.99113493e-01],\n",
       "        [2.28894225e-01, 3.85123909e-01, 3.80414018e-01, 5.56784377e-03],\n",
       "        [6.11052992e-03, 1.78964114e-04, 6.48031924e-03, 9.87230177e-01],\n",
       "        [3.73378627e-02, 1.50697028e-03, 1.05875244e-02, 9.50567655e-01],\n",
       "        [2.34250258e-01, 1.44833586e-02, 7.49579394e-01, 1.68700212e-03],\n",
       "        [5.89768843e-02, 3.47667339e-03, 9.30079455e-01, 7.46699344e-03],\n",
       "        [6.10975147e-01, 3.22149681e-02, 3.38976787e-01, 1.78330603e-02],\n",
       "        [4.77403495e-01, 5.53044073e-03, 5.14859153e-01, 2.20691418e-03],\n",
       "        [5.80497270e-01, 1.97106824e-02, 3.66950408e-01, 3.28416418e-02],\n",
       "        [3.97604047e-01, 9.82028796e-02, 4.58905530e-01, 4.52875659e-02]]])"
      ]
     },
     "execution_count": 106,
     "metadata": {},
     "output_type": "execute_result"
    }
   ],
   "source": [
    "blind_prediction_probs"
   ]
  },
  {
   "cell_type": "code",
   "execution_count": 104,
   "metadata": {},
   "outputs": [],
   "source": [
    "identifiers = []\n",
    "with open('./Data/blind.fasta.txt', 'r' ) as f:\n",
    "    content = SeqIO.parse(f, 'fasta')\n",
    "    for record in content:\n",
    "        identifier = record.id\n",
    "        identifiers.append(identifier)\n",
    "\n",
    "classes = ['Cytosol', 'Mitochondria', 'Nucleus', 'Secreted']"
   ]
  },
  {
   "cell_type": "code",
   "execution_count": 126,
   "metadata": {},
   "outputs": [
    {
     "name": "stdout",
     "output_type": "stream",
     "text": [
      "SEQ677 & Secreted & 47.86 \\\\\n",
      "SEQ231 & Secreted & 79.57 \\\\\n",
      "SEQ871 & Secreted & 65.87 \\\\\n",
      "SEQ388 & Nucleus & 60.32 \\\\\n",
      "SEQ122 & Nucleus & 57.6 \\\\\n",
      "SEQ758 & Nucleus & 81.05 \\\\\n",
      "SEQ333 & Cytosol & 65.62 \\\\\n",
      "SEQ937 & Cytosol & 68.04 \\\\\n",
      "SEQ351 & Cytosol & 74.59 \\\\\n",
      "SEQ202 & Mitochondria & 66.89 \\\\\n",
      "SEQ608 & Secreted & 29.91 \\\\\n",
      "SEQ402 & Mitochondria & 38.51 \\\\\n",
      "SEQ433 & Secreted & 98.72 \\\\\n",
      "SEQ821 & Secreted & 95.06 \\\\\n",
      "SEQ322 & Nucleus & 74.96 \\\\\n",
      "SEQ982 & Nucleus & 93.01 \\\\\n",
      "SEQ951 & Cytosol & 61.1 \\\\\n",
      "SEQ173 & Nucleus & 51.49 \\\\\n",
      "SEQ862 & Cytosol & 58.05 \\\\\n",
      "SEQ224 & Nucleus & 45.89 \\\\\n"
     ]
    }
   ],
   "source": [
    "for i in range(20):\n",
    "    c = classes[blind_predictions[0,i]]\n",
    "    conf = str(round(blind_prediction_probs[0,i,:].max()*100,2))\n",
    "    id = identifiers[i]\n",
    "    print(\"{} & {} & {} \\\\\\\\\".format(id,c,conf))"
   ]
  },
  {
   "cell_type": "code",
   "execution_count": null,
   "metadata": {},
   "outputs": [],
   "source": []
  },
  {
   "cell_type": "code",
   "execution_count": null,
   "metadata": {},
   "outputs": [],
   "source": []
  }
 ],
 "metadata": {
  "kernelspec": {
   "display_name": "Python 3",
   "language": "python",
   "name": "python3"
  },
  "language_info": {
   "codemirror_mode": {
    "name": "ipython",
    "version": 3
   },
   "file_extension": ".py",
   "mimetype": "text/x-python",
   "name": "python",
   "nbconvert_exporter": "python",
   "pygments_lexer": "ipython3",
   "version": "3.6.4"
  }
 },
 "nbformat": 4,
 "nbformat_minor": 2
}
